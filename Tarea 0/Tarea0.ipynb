{
 "cells": [
  {
   "cell_type": "markdown",
   "metadata": {},
   "source": [
    "<img src=\"escudo_utfsm.gif\" style=\"float:right;height:100px\">\n",
    "<img src=\"IsotipoDIisocolor.png\" style=\"float:left;height:100px\">\n",
    "<center>\n",
    "    <h1> ILI285 - Computación Científica I / INF285 - Computación Científica</h1>\n",
    "    <h1> Tarea 0: Hands-on Jupyter Notebook </h1>\n",
    "    <h3> [S]cientific [C]omputing [T]eam 2019</h3>\n",
    "</center>\n",
    "<p>\n",
    "<center>Marzo 2019 - v1.2 </center>\n",
    "</p>\n",
    "\n",
    "---"
   ]
  },
  {
   "cell_type": "markdown",
   "metadata": {},
   "source": [
    "## Contexto\n",
    "\n",
    "La presenta tarea tiene como objetivo la familiarización con las bibliotecas y estructuras de datos utilizadas en el curso, relacionadolo con problemas contigentes al curso. Además se presentan todas las formalidades necesarias para la entrega y exitosa evaluación de las tareas."
   ]
  },
  {
   "cell_type": "markdown",
   "metadata": {},
   "source": [
    "## Preguntas\n",
    "---"
   ]
  },
  {
   "cell_type": "markdown",
   "metadata": {},
   "source": [
    "## 1.- [40 puntos] Valores y vectores propios\n",
    "\n",
    "Sea la matriz tridiagonal\n",
    "\\begin{equation*}\n",
    "T_n = \n",
    "\\begin{bmatrix}\n",
    "2 & -1 & 0 & \\cdots & \\cdots & 0 \\\\\n",
    "-1 & 2 & -1 & \\ddots & \\cdots & 0 \\\\\n",
    "0 & -1 & 2 & -1 & \\ddots & \\vdots \\\\\n",
    "\\vdots & \\ddots & \\ddots & \\ddots & \\ddots & 0 \\\\\n",
    "\\vdots & \\ddots & \\ddots & -1 & 2 & -1 \\\\\n",
    "0 & \\cdots & \\cdots & 0 & -1 & 2\n",
    "\\end{bmatrix}\n",
    "\\in \\mathbb{R}^{n \\times n},\n",
    "\\end{equation*}\n",
    "donde $n$ es un parámetro. Los valores propios de $T_n$ vienen dados por:\n",
    "\\begin{equation*}\n",
    "\\lambda_k = 2 - 2 \\cos \\left( \\dfrac{k\\, \\pi}{n + 1} \\right) \\ \\textrm{para } k = 1,...,n.\n",
    "\\end{equation*}\n",
    "\n",
    "1.- Construya una función en python que obtenga numéricamente (scipy?) el $k$-ésimo valor propio y vector propio de $T_n$, donde se considera que los valores propios fueron ordenados de menor a mayor. La firma de la función debe ser la siguiente:\n",
    "\n",
    "```python\n",
    "'''\n",
    "Input: \n",
    "n - (integer) Dimension of the matrix T_n, n>=2.\n",
    "k - (integer) 1<=k<=n.\n",
    "\n",
    "Output:\n",
    "lambda_k - (double) k-th eigenvalue\n",
    "v_k - (numpy array) k-th eigenvector\n",
    "'''\n",
    "def eigs_T_n(n, k):\n",
    "    ...\n",
    "    return [lambda_k, v_k]\n",
    "```\n",
    "2.- Realice un plot de ```eigs_T_n(n, k)``` considerando $k=4$ y use la función [```interact```](https://ipywidgets.readthedocs.io/en/stable/examples/Using%20Interact.html) de la biblioteca [```ipywidgets```](https://ipywidgets.readthedocs.io/en/stable/) para varias    $n\\in\\{10,\\dots,1000\\}$. ¿Qué observa? (En el jupyter notebook [04_roots_of_1D_equations.ipynb](https://github.com/tclaudioe/Scientific-Computing/blob/master/SC1/04_roots_of_1D_equations.ipynb) se encuentra un ejemplo con ```interact```)."
   ]
  },
  {
   "cell_type": "markdown",
   "metadata": {},
   "source": [
    "## 2.-  [50 puntos]  A matrix equation\n",
    "\n",
    "Considere la siguiente ecuación matricial:\n",
    "\\begin{equation*}\n",
    "\\frac{(n-1)^2}{4}(T_n\\,U_n+U_n\\,T_n)+9\\,U_n=\\,F_n\\in \\mathbb{R}^{n\\times n},\n",
    "\\end{equation*}\n",
    "donde $n$ es un parámetro, $\\displaystyle{(F_n)_{ij}=\\exp(-10\\,((y_i-1)^2+(x_j-1/2)))}$, para $x_j=-1+(j-1)\\frac{2}{n-1}$, $y_i=-1+(i-1)\\frac{2}{n-1}$, $i=1,\\dots,n$, y $j=1,\\dots,n$.\n",
    "\n",
    "1.- Construya una función en python que obtenga $U_n$ dado $n$. La firma de la función debe ser la siguiente:\n",
    "\n",
    "```python\n",
    "'''\n",
    "Input: \n",
    "n - (integer) Dimension of the problem, n>=2.\n",
    "Output:\n",
    "U_n - (2D-array numpy array) The solution of the problem.\n",
    "'''\n",
    "def find_U_n(n):\n",
    "    print(\"Holaa\")\n",
    "    ...\n",
    "    return U_n\n",
    "```\n",
    "2.- Realice un heatmap de ```U_n(n)``` considerando un widget para variar $n\\in\\{10,\\dots,50\\}$. ¿Qué observa?"
   ]
  },
  {
   "cell_type": "markdown",
   "metadata": {},
   "source": [
    "# Instrucciones:\n",
    "\n",
    "* **Importante, Asegúrese de responder TODO lo que la pregunta pide.**\n",
    "* La estructura de la tarea es la siguiente:\n",
    "     1. Título, nombre de estudiante, email y rol.\n",
    "     2. Responder cada pregunta de forma personal.\n",
    "     5. Referencias. Es muy importante incluir todas las fuentes usadas, de otra forma se considera que lo no se ha citado adecuadamente es su trabajo.\n",
    "* La tarea debe ser realizada en `Jupyter Notebook` (`Python3`) entregado.\n",
    "* Se evaluará la correcta utilización de librerias `NumPy`, `SciPy`, `Matplotlib` y `ipywidgets`, entre otras, así como la **correcta implementación de algoritmos vectorizados**.\n",
    "* **MUY IMPORTANTE** El archivo de entrega debe denominarse TareaN-rol.tar.gz y _notebook_ debe tener como nombre TareaN-rol.ipynb, donde $N$ es el número de la tarea y debe contener un directorio con todos los archivos necesarios para ejecutar el notebook, junto con un archivo README indicando explícitamente las librerías o módulos utilizados, nombre y rol del estudiante. El no cumplimiento de esta regla significa calificación $0$.\n",
    "* El descuento por día de atraso será de $30$ puntos, con un máximo de 1 día de atraso. No se recibirán entregas después de este día.\n",
    "* Debe citar toda fuente de código externo. \n",
    "* El trabajo es personal, no se permite compartir código ni utilizar código de otros, aunque sí se sugiere discutir aspectos generales con sus compañeros.\n",
    "* En caso de sospecha de no cumplimiento de estas instrucciones, se solicitará al involucrado o la involucrada a aclarar la situación. Dependiendo de la justificación se decidirá su calificación, la cual podrá o no ser penalizada.\n",
    "* El no seguir estas instrucciones, implica descuentos en su nota obtenida.\n",
    "* Esta es una tarea de **prueba**, es decir, su calificación no influirá en la nota del curso. El objetivo de esta tarea es informar al estudiante sobre los métodos de retroalimentación posterior a la corrección de las tareas del curso. "
   ]
  },
  {
   "cell_type": "code",
   "execution_count": null,
   "metadata": {},
   "outputs": [],
   "source": []
  },
  {
   "cell_type": "code",
   "execution_count": null,
   "metadata": {},
   "outputs": [],
   "source": []
  }
 ],
 "metadata": {
  "kernelspec": {
   "display_name": "Python 3",
   "language": "python",
   "name": "python3"
  },
  "language_info": {
   "codemirror_mode": {
    "name": "ipython",
    "version": 3
   },
   "file_extension": ".py",
   "mimetype": "text/x-python",
   "name": "python",
   "nbconvert_exporter": "python",
   "pygments_lexer": "ipython3",
   "version": "3.6.6"
  }
 },
 "nbformat": 4,
 "nbformat_minor": 2
}
